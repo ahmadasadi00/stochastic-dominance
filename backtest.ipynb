{
 "cells": [
  {
   "cell_type": "code",
   "execution_count": null,
   "metadata": {},
   "outputs": [],
   "source": [
    "import pandas as pd\n",
    "import os\n",
    "import tqdm\n",
    "import pickle\n",
    "from joblib import delayed, Parallel\n",
    "FOLDER_ADDRESS = r'D:\\Projects\\stochastic-dominance'\n",
    "os.chdir(FOLDER_ADDRESS)\n",
    "from utils.prepare_data import clean_data\n",
    "from dominance.dominance import StochasticDominance\n",
    "price_data_address = os.path.join(FOLDER_ADDRESS,'data')\n",
    "\n",
    "return_data = clean_data(price_data_address)"
   ]
  },
  {
   "cell_type": "code",
   "execution_count": null,
   "metadata": {},
   "outputs": [],
   "source": [
    "sd = StochasticDominance(2, 'Passive', 80, 'SPY')\n",
    "sd.get_dominance(return_data, pd.to_datetime('2018-08-20', utc=True), pd.to_datetime('2019-08-20', utc=True), ['AAPL', 'GOOG'])"
   ]
  },
  {
   "cell_type": "code",
   "execution_count": null,
   "metadata": {},
   "outputs": [],
   "source": [
    "############ parameters you need to set\n",
    "jstart_date = jdatetime.datetime.strptime('1394-01-01', '%Y-%m-%d').date()\n",
    "jend_date = jdatetime.datetime.strptime('1394-02-01', '%Y-%m-%d').date()\n",
    "#########################################\n",
    "\n",
    "\n",
    "all_data = pd.read_pickle('Price_Data_Cleaned.pickle')\n",
    "liquidity_filter = pd.read_pickle('liquidity_filter.pickle')\n",
    "portfolio_calc_dates = []\n",
    "portfolio_calc_dates.append(jstart_date)\n",
    "end = jstart_date\n",
    "while end < jend_date:\n",
    "    end = add_month(end,  1)\n",
    "    portfolio_calc_dates.append(end)\n",
    "\n",
    "\n",
    "def par_func(date, lookback_for_dominance, order, active_passive):\n",
    "    prev_month_date = subtract_month(date, lookback_for_dominance)\n",
    "    tmp_liquidity = liquidity_filter[(liquidity_filter['Date'] >= d(prev_month_date)) & (liquidity_filter['Date'] <= d(date))]\n",
    "    all_ncs = tmp_liquidity.groupby('NationalCode').last()\n",
    "    all_ncs_sorted = all_ncs.sort_values(by='LiqScore', ascending=False)\n",
    "    liquid_ncs = list(all_ncs_sorted[all_ncs_sorted['LiqScore'] == 1].index)\n",
    "    tmp_data = all_data[(all_data['Date'] >= d(prev_month_date)) & (all_data['Date'] <= d(date))]\n",
    "    tmp_data_liquid = tmp_data[tmp_data.index.isin(liquid_ncs)]\n",
    "    del tmp_data, all_ncs\n",
    "    segments = get_capital_segment(2, tmp_data_liquid)\n",
    "    x = get_dominance(all_data, \n",
    "                      segments, \n",
    "                      d(prev_month_date), \n",
    "                      d(date), \n",
    "                      lookback_for_dominance, \n",
    "                      order, \n",
    "                      active_passive)\n",
    "    return {date : x}\n",
    "\n",
    "\n",
    "ddddd = par_func(portfolio_calc_dates[0], 3, 1, False)\n",
    "# for l in [3]:\n",
    "#     for o in [1, 2]:\n",
    "#         for actv in [True, False]:\n",
    "#             results = Parallel(n_jobs=4)(delayed(par_func)(date, l, o, actv) for date in tqdm.tqdm(portfolio_calc_dates))\n",
    "#             with open(f'results_{l}_Month_{o}_Order_{actv}.pickle', 'wb') as handle:\n",
    "#                 pickle.dump(results, handle, protocol=pickle.HIGHEST_PROTOCOL)"
   ]
  }
 ],
 "metadata": {
  "kernelspec": {
   "display_name": "env_agah",
   "language": "python",
   "name": "python3"
  },
  "language_info": {
   "name": "python",
   "version": "3.9.12"
  },
  "orig_nbformat": 4
 },
 "nbformat": 4,
 "nbformat_minor": 2
}
