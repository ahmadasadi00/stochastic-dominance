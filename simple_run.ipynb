{
 "cells": [
  {
   "cell_type": "code",
   "execution_count": 1,
   "metadata": {},
   "outputs": [],
   "source": [
    "import pandas as pd\n",
    "import os\n",
    "FOLDER_ADDRESS = r'D:\\Projects\\stochastic-dominance'\n",
    "os.chdir(FOLDER_ADDRESS)\n",
    "from utils.prepare_data import clean_data\n",
    "from dominance.dominance import StochasticDominance\n",
    "price_data_address = os.path.join(FOLDER_ADDRESS,'data')\n",
    "return_data = clean_data(price_data_address)"
   ]
  },
  {
   "cell_type": "code",
   "execution_count": 2,
   "metadata": {},
   "outputs": [],
   "source": [
    "sd = StochasticDominance(2, 'Passive', 80)"
   ]
  },
  {
   "cell_type": "code",
   "execution_count": 3,
   "metadata": {},
   "outputs": [
    {
     "name": "stdout",
     "output_type": "stream",
     "text": [
      "Calculate Dominance |████████████████████████████████████████████████████████████████████████████████████████████████████| 100.0% Complete\n"
     ]
    }
   ],
   "source": [
    "dominance_results = sd.get_dominance(return_data, pd.to_datetime('2018-08-20', utc=True), pd.to_datetime('2019-08-20', utc=True), ['AAPL', 'GOOG'])"
   ]
  },
  {
   "cell_type": "code",
   "execution_count": 4,
   "metadata": {},
   "outputs": [
    {
     "data": {
      "text/plain": [
       "{'AAPL': {'better_count': 0,\n",
       "  'worst_count': 0,\n",
       "  'name': 'AAPL',\n",
       "  'better_names': [],\n",
       "  'worst_names': []},\n",
       " 'GOOG': {'better_count': 0,\n",
       "  'worst_count': 0,\n",
       "  'name': 'GOOG',\n",
       "  'better_names': [],\n",
       "  'worst_names': []}}"
      ]
     },
     "execution_count": 4,
     "metadata": {},
     "output_type": "execute_result"
    }
   ],
   "source": [
    "dominance_results"
   ]
  },
  {
   "cell_type": "code",
   "execution_count": null,
   "metadata": {},
   "outputs": [],
   "source": []
  }
 ],
 "metadata": {
  "kernelspec": {
   "display_name": "Python 3.9.12 ('env_agah')",
   "language": "python",
   "name": "python3"
  },
  "language_info": {
   "codemirror_mode": {
    "name": "ipython",
    "version": 3
   },
   "file_extension": ".py",
   "mimetype": "text/x-python",
   "name": "python",
   "nbconvert_exporter": "python",
   "pygments_lexer": "ipython3",
   "version": "3.9.12"
  },
  "orig_nbformat": 4,
  "vscode": {
   "interpreter": {
    "hash": "07e3f23ba0da2d0ac7014da098ed3a549e79f2c5dd559c10cebbc9dba3b9d65f"
   }
  }
 },
 "nbformat": 4,
 "nbformat_minor": 2
}
